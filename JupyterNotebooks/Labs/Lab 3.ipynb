{
 "cells": [
  {
   "cell_type": "markdown",
   "metadata": {},
   "source": [
    "# lab 3\n",
    "---\n",
    "### Software Development 1\n",
    "### CMPT 220\n",
    "### Due: 02/10/2022 by Midnight\n",
    "\n",
    "\n",
    "The third assignment will have us make our first Java project in Intellij. We’re going to be creating our first Java Project and making a simple hello world.\n",
    "\n",
    "Your goals for this lab is to:\n",
    "- Create a new folder named HelloWorld in your class repo inside the labs folder (JavaLabs -> HelloWorld) \n",
    "- Create a new project from Intellij in your folder named HelloWorld\n",
    "- Add a print statement saying Hello World (Feel free to put whatever you want in the print statement)\n",
    "- Run the program using the green play button that pops up\n",
    "\n",
    "- Once you've gone through and played with that and have run your HelloWorld you can then open the Lab 3 and complete the todos inside the comments in there.\n",
    "- Submit the lab by pushing your repo and submitting a screenshot of your commit to iLearn\n",
    "\n",
    "Commit and push your changes to GitHub, and submit a screenshot with your webpage to iLearn.\n",
    "\n",
    "Grading will be based on content, accuracy, thoroughness, and adherence to instructions for credit up to a single homework lab. \n",
    "\n",
    "First submit the lab by pushing your synced repository to your GitHub account on https://github.com/. You’ll know if you did this properly because you’ll have the Lesson Two notebook. You’ll also have the file for the lab. Second, on iLearn, submit the lab with a screenshot of your synced repo on Github.\n"
   ]
  }
 ],
 "metadata": {
  "kernelspec": {
   "display_name": "Java",
   "language": "java",
   "name": "python3610jvsc74a57bd04d59df3f83fb0b9362c550a175f541af5e41fb6d88a07ac62d86a352ec4d3221"
  },
  "language_info": {
   "name": "java"
  },
  "orig_nbformat": 4
 },
 "nbformat": 4,
 "nbformat_minor": 2
}
